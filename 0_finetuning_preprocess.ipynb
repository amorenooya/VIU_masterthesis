{
  "nbformat": 4,
  "nbformat_minor": 0,
  "metadata": {
    "colab": {
      "provenance": [],
      "gpuType": "V28",
      "authorship_tag": "ABX9TyMTdoGncVzk9e1/ZyXEMhFD",
      "include_colab_link": true
    },
    "kernelspec": {
      "name": "python3",
      "display_name": "Python 3"
    },
    "language_info": {
      "name": "python"
    },
    "accelerator": "TPU"
  },
  "cells": [
    {
      "cell_type": "markdown",
      "metadata": {
        "id": "view-in-github",
        "colab_type": "text"
      },
      "source": [
        "<a href=\"https://colab.research.google.com/github/amorenooya/VIU_masterthesis/blob/main/0_finetuning_preprocess.ipynb\" target=\"_parent\"><img src=\"https://colab.research.google.com/assets/colab-badge.svg\" alt=\"Open In Colab\"/></a>"
      ]
    },
    {
      "cell_type": "code",
      "source": [
        "# ATENCIÓN!! Modificar ruta relativa a la práctica si es distinta (drive_root)\n",
        "mount='/content/gdrive'\n",
        "drive_root = mount + \"/My Drive/TFM\"\n",
        "\n",
        "try:\n",
        "  from google.colab import drive\n",
        "  IN_COLAB=True\n",
        "except:\n",
        "  IN_COLAB=False"
      ],
      "metadata": {
        "id": "mDbyTnDoR_w6"
      },
      "execution_count": null,
      "outputs": []
    },
    {
      "cell_type": "code",
      "source": [
        "from google.colab import drive\n",
        "drive.mount('/content/drive')\n",
        "\n",
        "# Define the path to your TFM folder\n",
        "drive_root = \"/content/drive/My Drive/TFM\"\n",
        "\n",
        "# Add the folder to Python's module search path\n",
        "import sys\n",
        "sys.path.append(drive_root)  # Now Python can find `transformer_maskgit`"
      ],
      "metadata": {
        "id": "Oupyq8cOSCn-"
      },
      "execution_count": null,
      "outputs": []
    },
    {
      "cell_type": "code",
      "source": [
        "!pip install pydicom nibabel"
      ],
      "metadata": {
        "id": "RKkCPF7dSIjM"
      },
      "execution_count": null,
      "outputs": []
    },
    {
      "cell_type": "code",
      "source": [
        "import os\n",
        "import numpy as np\n",
        "import pydicom\n",
        "import nibabel as nib\n",
        "\n",
        "from pydicom.filereader import dcmread\n",
        "from pydicom.errors import InvalidDicomError\n",
        "from tqdm import tqdm\n",
        "\n",
        "# Paths\n",
        "input_root = f'{drive_root}/manifest-1751367906950'      # Folder with patient subdirectories\n",
        "output_root =  f'{drive_root}/manifest-1751367906950/preprocessed'   # Where to save .nii.gz files\n",
        "\n",
        "os.makedirs(output_root, exist_ok=True)"
      ],
      "metadata": {
        "id": "kI1dEP1xSVu0"
      },
      "execution_count": null,
      "outputs": []
    },
    {
      "cell_type": "code",
      "source": [
        "# Helper to check if folder contains DICOM files\n",
        "def is_dicom_folder(path):\n",
        "    try:\n",
        "        for file in os.listdir(path):\n",
        "            full_path = os.path.join(path, file)\n",
        "            if os.path.isfile(full_path):\n",
        "                dcm = dcmread(full_path, stop_before_pixels=True)\n",
        "                return True\n",
        "    except InvalidDicomError:\n",
        "        return False\n",
        "    return False"
      ],
      "metadata": {
        "id": "j5yYrT4aSQBE"
      },
      "execution_count": null,
      "outputs": []
    },
    {
      "cell_type": "code",
      "source": [
        "import os\n",
        "import numpy as np\n",
        "import nibabel as nib\n",
        "from pydicom import dcmread\n",
        "\n",
        "# Process each DICOM folder\n",
        "for root, dirs, files in os.walk(input_root):\n",
        "    dicom_files = [f for f in files if f.lower().endswith('.dcm')]\n",
        "    if len(dicom_files) >= 3:  # Heuristic: folder with multiple slices\n",
        "        try:\n",
        "            # Construct output path\n",
        "            rel_path = os.path.relpath(root, input_root)\n",
        "            output_path = os.path.join(output_root, rel_path)\n",
        "            os.makedirs(os.path.dirname(output_path), exist_ok=True)\n",
        "            output_file = output_path + '.nii.gz'\n",
        "\n",
        "            # Skip if already processed\n",
        "            if os.path.exists(output_file):\n",
        "                print(f\"Skipping (already processed): {output_file}\")\n",
        "                continue\n",
        "\n",
        "            dicom_paths = [os.path.join(root, f) for f in dicom_files]\n",
        "\n",
        "            # Read slices and sort by InstanceNumber or ImagePositionPatient\n",
        "            slices = []\n",
        "            for path in dicom_paths:\n",
        "                ds = dcmread(path)\n",
        "                if hasattr(ds, 'InstanceNumber'):\n",
        "                    slices.append((ds.InstanceNumber, ds))\n",
        "                elif hasattr(ds, 'ImagePositionPatient'):\n",
        "                    slices.append((ds.ImagePositionPatient[2], ds))\n",
        "\n",
        "            if len(slices) < 3:\n",
        "                continue  # Not a valid 3D scan\n",
        "\n",
        "            # Sort slices along z-axis\n",
        "            slices.sort(key=lambda x: x[0])\n",
        "            dicom_series = [s[1] for s in slices]\n",
        "\n",
        "            # Extract voxel data and metadata\n",
        "            images = []\n",
        "            for ds in dicom_series:\n",
        "                image = ds.pixel_array.astype(np.float32)\n",
        "                hu = image * float(ds.RescaleSlope) + float(ds.RescaleIntercept)\n",
        "                hu = np.clip(hu, -1000, 1000)\n",
        "                images.append(hu)\n",
        "\n",
        "            volume = np.stack(images, axis=0)  # Shape: [Z, Y, X]\n",
        "            print(f\"Volume shape for {rel_path}: {volume.shape}\")\n",
        "\n",
        "            # Compute affine from DICOM metadata\n",
        "            first_ds = dicom_series[0]\n",
        "            pixel_spacing = [float(sp) for sp in first_ds.PixelSpacing]\n",
        "            slice_thickness = float(getattr(first_ds, 'SliceThickness', 1.0))\n",
        "\n",
        "            affine = np.diag([\n",
        "                pixel_spacing[1],           # x spacing\n",
        "                pixel_spacing[0],           # y spacing\n",
        "                slice_thickness,            # z spacing\n",
        "                1\n",
        "            ])\n",
        "\n",
        "            # Save NIfTI\n",
        "            nifti_img = nib.Nifti1Image(volume, affine)\n",
        "            nib.save(nifti_img, output_file)\n",
        "            print(f\"Saved NIfTI: {output_file}\")\n",
        "\n",
        "        except Exception as e:\n",
        "            print(f\"Failed: {root}\\nReason: {e}\")"
      ],
      "metadata": {
        "id": "MSRZGXBD8WnM"
      },
      "execution_count": null,
      "outputs": []
    }
  ]
}